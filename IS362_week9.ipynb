{
 "cells": [
  {
   "cell_type": "markdown",
   "metadata": {
    "slideshow": {
     "slide_type": "notes"
    }
   },
   "source": [
    "Loads flights database and loads planes table inner join flights table on tailnum = tailnum"
   ]
  },
  {
   "cell_type": "code",
   "execution_count": 6,
   "metadata": {},
   "outputs": [
    {
     "name": "stderr",
     "output_type": "stream",
     "text": [
      "C:\\Users\\garci\\AppData\\Local\\Temp\\ipykernel_73236\\2772933380.py:9: UserWarning: pandas only supports SQLAlchemy connectable (engine/connection) or database string URI or sqlite3 DBAPI2 connection. Other DBAPI2 objects are not tested. Please consider using SQLAlchemy.\n",
      "  df = pd.read_sql_query(sql=statement, con=database)\n"
     ]
    },
    {
     "name": "stdout",
     "output_type": "stream",
     "text": [
      "                           type                   manufacturer\n",
      "0       Fixed wing multi engine                         BOEING\n",
      "1       Fixed wing multi engine                         BOEING\n",
      "2       Fixed wing multi engine                         BOEING\n",
      "3       Fixed wing multi engine                         AIRBUS\n",
      "4       Fixed wing multi engine                         BOEING\n",
      "...                         ...                            ...\n",
      "284165  Fixed wing multi engine  MCDONNELL DOUGLAS CORPORATION\n",
      "284166  Fixed wing multi engine  MCDONNELL DOUGLAS AIRCRAFT CO\n",
      "284167  Fixed wing multi engine  MCDONNELL DOUGLAS AIRCRAFT CO\n",
      "284168  Fixed wing multi engine  MCDONNELL DOUGLAS CORPORATION\n",
      "284169  Fixed wing multi engine  MCDONNELL DOUGLAS CORPORATION\n",
      "\n",
      "[284170 rows x 2 columns]\n"
     ]
    }
   ],
   "source": [
    "import pymysql\n",
    "import pandas as pd\n",
    "\n",
    "\n",
    "database = pymysql.connect(host='localhost', user='****', password='****', database='flights')\n",
    "\n",
    "statement = 'select type, manufacturer from planes inner join flights on planes.tailnum = flights.tailnum'\n",
    "\n",
    "df = pd.read_sql_query(sql=statement, con=database)\n",
    "print(df)"
   ]
  },
  {
   "cell_type": "markdown",
   "metadata": {},
   "source": []
  }
 ],
 "metadata": {
  "kernelspec": {
   "display_name": "Python 3.9.12 ('.IS362week9': venv)",
   "language": "python",
   "name": "python3"
  },
  "language_info": {
   "codemirror_mode": {
    "name": "ipython",
    "version": 3
   },
   "file_extension": ".py",
   "mimetype": "text/x-python",
   "name": "python",
   "nbconvert_exporter": "python",
   "pygments_lexer": "ipython3",
   "version": "3.9.12"
  },
  "orig_nbformat": 4,
  "vscode": {
   "interpreter": {
    "hash": "62d21c9a4ff193c62d1b693b1212c256629b6f684092fe7f8b8be74a1fed7770"
   }
  }
 },
 "nbformat": 4,
 "nbformat_minor": 2
}
